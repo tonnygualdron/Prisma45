{
 "cells": [
  {
   "cell_type": "markdown",
   "id": "4a15989f",
   "metadata": {},
   "source": [
    "# CODIGO Simulador de Prisma Rectangular - Tonny Gualdron"
   ]
  },
  {
   "cell_type": "markdown",
   "id": "82260bf7",
   "metadata": {},
   "source": [
    "Corra todas las lineas de codigo hasta el siguiente titulo antes de ejecutar la simualción."
   ]
  },
  {
   "cell_type": "code",
   "execution_count": 1,
   "id": "0258d765",
   "metadata": {},
   "outputs": [
    {
     "name": "stdout",
     "output_type": "stream",
     "text": [
      "%pylab is deprecated, use %matplotlib inline and import the required libraries.\n",
      "Populating the interactive namespace from numpy and matplotlib\n"
     ]
    }
   ],
   "source": [
    "%pylab inline\n",
    "import math\n",
    "from IPython.display import display, clear_output"
   ]
  },
  {
   "cell_type": "code",
   "execution_count": 2,
   "id": "31ebfceb",
   "metadata": {},
   "outputs": [],
   "source": [
    "def rotarVertices(a, thetaDeg):\n",
    "    theta = radians(thetaDeg)\n",
    "    r = (1/sqrt(2))*a\n",
    "    ver3 = [r*cos(theta+(pi/2)),r*sin(theta+(pi/2))]\n",
    "    ver2 = [r*cos(theta),r*sin(theta)]\n",
    "    ver1 = [r*cos(theta+((3*pi)/2)),r*sin(theta+((3*pi)/2))]\n",
    "    return [ver1,ver2,ver3,ver1]"
   ]
  },
  {
   "cell_type": "code",
   "execution_count": 3,
   "id": "17f6a470",
   "metadata": {},
   "outputs": [],
   "source": [
    "def normaVector(vec):\n",
    "    return sqrt(pow(vec[0],2)+pow(vec[1],2))"
   ]
  },
  {
   "cell_type": "code",
   "execution_count": 4,
   "id": "e66848b4",
   "metadata": {},
   "outputs": [],
   "source": [
    "def uniVector(vec):\n",
    "    return [vec[0]/normaVector(vec),vec[1]/normaVector(vec)]"
   ]
  },
  {
   "cell_type": "code",
   "execution_count": 5,
   "id": "e6039947",
   "metadata": {},
   "outputs": [],
   "source": [
    "def vectoresPrisma(ver):\n",
    "    vec1 = [(ver[1][0]-ver[0][0]),(ver[1][1]-ver[0][1])]\n",
    "    vec2 = [(ver[2][0]-ver[1][0]),(ver[2][1]-ver[1][1])]\n",
    "    vec3 = [(ver[0][0]-ver[2][0]),(ver[0][1]-ver[2][1])]\n",
    "    return [uniVector(vec1),uniVector(vec2),uniVector(vec3)]"
   ]
  },
  {
   "cell_type": "code",
   "execution_count": 6,
   "id": "2946b7a2",
   "metadata": {},
   "outputs": [],
   "source": [
    "def inter(vec1,ver1,vec2,ver2):\n",
    "    if(vec1[0] != 0 and vec2[0] != 0):\n",
    "        a1 = vec1[1]/vec1[0]\n",
    "        a2 = vec2[1]/vec2[0]\n",
    "        b1 = ((-1*a1*ver1[0])+ver1[1])\n",
    "        b2 = ((-1*a2*ver2[0])+ver2[1])\n",
    "        x = (b2-b1)/(a1-a2)\n",
    "        y = a1*x + b1\n",
    "    else:\n",
    "        x = ver1[0]\n",
    "        y = ver2[1]\n",
    "    return [x,y]"
   ]
  },
  {
   "cell_type": "code",
   "execution_count": 7,
   "id": "94bb5c07",
   "metadata": {},
   "outputs": [],
   "source": [
    "def vectorNormal(vec):\n",
    "    return [vec[1],-vec[0]]"
   ]
  },
  {
   "cell_type": "code",
   "execution_count": 8,
   "id": "a09c100e",
   "metadata": {},
   "outputs": [],
   "source": [
    "def vectorNormalInv(vec):\n",
    "    return [-vec[1],vec[0]]"
   ]
  },
  {
   "cell_type": "code",
   "execution_count": 9,
   "id": "206b2f70",
   "metadata": {},
   "outputs": [],
   "source": [
    "def productoPunto(vec1,vec2):\n",
    "    return (vec1[0]*vec2[0]) + (vec1[1]*vec2[1])  "
   ]
  },
  {
   "cell_type": "code",
   "execution_count": 10,
   "id": "4eadcc28",
   "metadata": {},
   "outputs": [],
   "source": [
    "def anguloVectores(vec1,vec2):\n",
    "    return arccos(productoPunto(vec1,vec2)/(normaVector(vec1)*normaVector(vec2)))"
   ]
  },
  {
   "cell_type": "code",
   "execution_count": 11,
   "id": "b6ee9d71",
   "metadata": {},
   "outputs": [],
   "source": [
    "def reflexion(vec,normal):\n",
    "    pro = productoPunto(vec,normal)\n",
    "    x = vec[0] -(2*pro*normal[0])\n",
    "    y = vec[1] - (2*pro*normal[1])\n",
    "    return [x,y]"
   ]
  },
  {
   "cell_type": "code",
   "execution_count": 12,
   "id": "9457ee31",
   "metadata": {},
   "outputs": [],
   "source": [
    "def refraccion(n1,n2,vec,normal):\n",
    "    pro = productoPunto(vec,normal)\n",
    "    pro2 = sqrt(pow(n2,2)-pow(n1,2)+pow(productoPunto(vec,normal),2))\n",
    "    x = vec[0] - (pro*normal[0]) + (pro2*normal[0])\n",
    "    y = vec[1] - (pro*normal[1]) + (pro2*normal[1])\n",
    "    return [x,y]"
   ]
  },
  {
   "cell_type": "code",
   "execution_count": 13,
   "id": "1c02a9e4",
   "metadata": {},
   "outputs": [],
   "source": [
    "def Rp(n1,n2,theta1,theta2):\n",
    "    theta11 = radians(theta1)\n",
    "    theta22 = radians(theta2)\n",
    "    return ((n1*cos(theta22))-(n2*cos(theta11)))/((n1*cos(theta22))+(n2*cos(theta11)))"
   ]
  },
  {
   "cell_type": "code",
   "execution_count": 14,
   "id": "7540785d",
   "metadata": {},
   "outputs": [],
   "source": [
    "def Tp(n1,n2,theta1,theta2):\n",
    "    theta11 = radians(theta1)\n",
    "    theta22 = radians(theta2)\n",
    "    return (2*n1*cos(theta11))/((n1*cos(theta22))+(n2*cos(theta11)))"
   ]
  },
  {
   "cell_type": "code",
   "execution_count": 15,
   "id": "54e6119a",
   "metadata": {},
   "outputs": [],
   "source": [
    "def anguloCritico(n1,n2):\n",
    "    return degrees(arcsin(n2/n1))"
   ]
  },
  {
   "cell_type": "code",
   "execution_count": 16,
   "id": "f6846bd4",
   "metadata": {},
   "outputs": [],
   "source": [
    "def simular(a,n1,n2,theta):\n",
    "    posiciones = []\n",
    "    angulos = []\n",
    "    vec = []\n",
    "    foto = [[0,0],[2*a*cos(radians(2*theta)),2*a*sin(radians(2*theta))]]\n",
    "    \n",
    "    vecLaser = [-1,0]\n",
    "    verLaser = [2*a,0]\n",
    "    posiciones.append(verLaser)\n",
    "    vec.append(vecLaser)\n",
    "    \n",
    "    verPrisma = rotarVertices(a, theta)\n",
    "    vecPrisma = vectoresPrisma(verPrisma)\n",
    "    \n",
    "    posiciones.append(inter(vec[0],posiciones[0],vecPrisma[0],verPrisma[0]))\n",
    "    vec.append(refraccion(n1,n2,vec[0],vectorNormalInv(vecPrisma[0])))\n",
    "    angulos.append(degrees(anguloVectores(vec[0],vectorNormalInv(vecPrisma[0]))))\n",
    "    angulos.append(degrees(anguloVectores(vec[1],vectorNormalInv(vecPrisma[0]))))\n",
    "    \n",
    "    posiciones.append(inter(vec[1],posiciones[1],vecPrisma[2],verPrisma[2]))\n",
    "    vec.append(reflexion(vec[1],vectorNormal(vecPrisma[2])))\n",
    "    angulos.append(degrees(anguloVectores(vec[1],vectorNormal(vecPrisma[2]))))\n",
    "    \n",
    "    if(angulos[2] < anguloCritico(n2,n1)):\n",
    "        vecT = refraccion(n2,n1,vec[1],vectorNormal(vecPrisma[2]))\n",
    "        angulos.append(degrees(anguloVectores(vecT,vectorNormal(vecPrisma[2]))))\n",
    "    else:\n",
    "        angulos.append(nan)\n",
    "        \n",
    "    angulos.append(degrees(anguloVectores(vec[2],vectorNormalInv(vecPrisma[2]))))\n",
    "    \n",
    "    posiciones.append(inter(vec[2],posiciones[2],vecPrisma[1],verPrisma[1]))\n",
    "    vec.append(refraccion(n2,n1,vec[2],vectorNormal(vecPrisma[1])))\n",
    "    angulos.append(degrees(anguloVectores(vec[2],vectorNormal(vecPrisma[1]))))\n",
    "    angulos.append(degrees(anguloVectores(vec[3],vectorNormal(vecPrisma[1]))))\n",
    "    \n",
    "    m = vec[3][1]/vec[3][0]\n",
    "    if(theta < 45):\n",
    "        posiciones.append([2*a,((2*a*m)+((-m*posiciones[3][0])+posiciones[3][1]))])\n",
    "    elif(theta > 45):\n",
    "        posiciones.append([-2*a,((-2*a*m)+((-m*posiciones[3][0])+posiciones[3][1]))])\n",
    "    else: \n",
    "        posiciones.append([posiciones[3][0],2*a])\n",
    "    return [posiciones,angulos,verPrisma,foto]"
   ]
  },
  {
   "cell_type": "code",
   "execution_count": 17,
   "id": "7f0ece12",
   "metadata": {},
   "outputs": [],
   "source": [
    "def plotSimulador(a,n1,n2,inicial,final,paso,tiempo):\n",
    "\n",
    "    theta = inicial\n",
    "\n",
    "    fig = plt.figure()\n",
    "    fig.set_figheight(4)\n",
    "    fig.set_figwidth(4)\n",
    "\n",
    "    ax = fig.add_subplot(1, 1, 1) \n",
    "\n",
    "    ax.cla()\n",
    "    display(fig)\n",
    "    clear_output(wait = True)\n",
    "    plt.pause(0.001)\n",
    "\n",
    "    ax.cla()\n",
    "    display(fig)\n",
    "    clear_output(wait = True)\n",
    "    plt.pause(0.001)\n",
    "\n",
    "    while theta <= final:\n",
    "        resultado = simular(a,n1,n2,theta)\n",
    "        posiciones = np.array(resultado[0])\n",
    "        angulos = np.array(resultado[1])\n",
    "        verPrisma = np.array(resultado[2])\n",
    "        foto =  np.array(resultado[3])  \n",
    "        print('Incidencia '+ str(\"{:.2f}\".format(angulos[0]))\n",
    "              +'°|Reflexión '+ str(\"{:.2f}\".format(angulos[2]))\n",
    "              +'|Salida '+ str(\"{:.2f}\".format(angulos[5]))+'°')\n",
    "\n",
    "        ax.cla()\n",
    "        ax.plot(posiciones[:,0],posiciones[:,1])\n",
    "        ax.plot(verPrisma[:,0],verPrisma[:,1])\n",
    "        #ax.plot(foto[:,0],foto[:,1])\n",
    "        ax.title.set_text('Angulo rotado '+ str(theta)+'°')\n",
    "        ax.set_xlim([-a, a])\n",
    "        ax.set_ylim([-a, a])\n",
    "\n",
    "        display(fig)\n",
    "        clear_output(wait = True)\n",
    "        plt.pause(tiempo)\n",
    "\n",
    "        theta+=paso"
   ]
  },
  {
   "cell_type": "code",
   "execution_count": 18,
   "id": "b7fd8631",
   "metadata": {},
   "outputs": [],
   "source": [
    "def reflectividad(a,n1,n2,inicial,final,paso):\n",
    "    refle = []\n",
    "    ang = []\n",
    "    theta = inicial\n",
    "\n",
    "    while theta <= final:\n",
    "        resultado = simular(a,n1,n2,theta)\n",
    "        posiciones = np.array(resultado[0])\n",
    "        angulos = np.array(resultado[1])\n",
    "        verPrisma = np.array(resultado[2])\n",
    "        foto =  np.array(resultado[3])\n",
    "        \n",
    "        f1=Tp(n1,n2,angulos[0],angulos[1])\n",
    "        f3=Tp(n2,n1,angulos[5],angulos[6])\n",
    "        \n",
    "        if(angulos[2] < anguloCritico(n2,n1)):\n",
    "            f2 = Rp(n2,n1,theta[2],theta[3])\n",
    "        else:\n",
    "            f2 = 1\n",
    "        \n",
    "        refle.append([f1,f2,f3,(f1*f2*f3)])\n",
    "        ang.append(theta)\n",
    "\n",
    "        theta+=paso\n",
    "    return [refle,ang]"
   ]
  },
  {
   "cell_type": "code",
   "execution_count": 19,
   "id": "933110d3",
   "metadata": {},
   "outputs": [],
   "source": [
    "def plotReflectividad(a,n1,n2,inicial,final,paso):\n",
    "    resultados = reflectividad(a,n1,n2,inicial,final,paso)\n",
    "    y = np.array(resultados[0])\n",
    "    #plot(resultados[1],y[:,0]/max(y[:,0]))\n",
    "    #plot(resultados[1],y[:,1]/max(y[:,1]))\n",
    "    #plot(resultados[1],y[:,2]/max(y[:,2]))\n",
    "    plot(resultados[1],y[:,3]/max(y[:,3]))\n",
    "    xlabel('Angulo[°]')\n",
    "    ylabel('Intensidad')"
   ]
  },
  {
   "cell_type": "markdown",
   "id": "37b2b1c3",
   "metadata": {},
   "source": [
    "# Simulador de Prisma Rectangular"
   ]
  },
  {
   "cell_type": "code",
   "execution_count": 20,
   "id": "99fec1b6",
   "metadata": {},
   "outputs": [],
   "source": [
    "a = 10 #Tamaño del prisma\n",
    "n1 = 1 #Indice del medio\n",
    "n2 = 2.6123 #Indice del prism\n",
    "inicial = 5 #Angulo en que inicia el prisma en grados [0-90]\n",
    "final = 85 #Angulo en que finaliza el prisma en grados [0-90]\n",
    "paso1 = 5 #Paso de simulación rotación \n",
    "paso2 = 1 #Paso de la simulación de reflectividad\n",
    "tiempo = 1 #Tiempo en segundo de actualización entre graficas"
   ]
  },
  {
   "cell_type": "code",
   "execution_count": 21,
   "id": "6a289149",
   "metadata": {},
   "outputs": [
    {
     "name": "stdout",
     "output_type": "stream",
     "text": [
      "Incidencia 40.00°|Reflexión 59.24|Salida 14.24°\n"
     ]
    },
    {
     "data": {
      "image/png": "[encoded data removed]",
      "text/plain": [
       "<Figure size 400x400 with 1 Axes>"
      ]
     },
     "metadata": {},
     "output_type": "display_data"
    }
   ],
   "source": [
    "plotSimulador(a,n1,n2,inicial,final,paso1,tiempo)"
   ]
  },
  {
   "cell_type": "code",
   "execution_count": 22,
   "id": "95597551",
   "metadata": {},
   "outputs": [
    {
     "data": {
      "image/png": "[encoded data removed]",
      "text/plain": [
       "<Figure size 640x480 with 1 Axes>"
      ]
     },
     "metadata": {},
     "output_type": "display_data"
    }
   ],
   "source": [
    "plotReflectividad(a,n1,n2,inicial,final,paso2)"
   ]
  }
 ],
 "metadata": {
  "kernelspec": {
   "display_name": "Python 3 (ipykernel)",
   "language": "python",
   "name": "python3"
  },
  "language_info": {
   "codemirror_mode": {
    "name": "ipython",
    "version": 3
   },
   "file_extension": ".py",
   "mimetype": "text/x-python",
   "name": "python",
   "nbconvert_exporter": "python",
   "pygments_lexer": "ipython3",
   "version": "3.10.6"
  }
 },
 "nbformat": 4,
 "nbformat_minor": 5
}
